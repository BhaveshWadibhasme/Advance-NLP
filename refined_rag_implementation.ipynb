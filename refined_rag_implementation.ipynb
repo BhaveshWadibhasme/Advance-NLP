{
  "nbformat": 4,
  "nbformat_minor": 0,
  "metadata": {
    "colab": {
      "provenance": [],
      "authorship_tag": "ABX9TyNzeNa3sqnsgrUMr0CdeEjI",
      "include_colab_link": true
    },
    "kernelspec": {
      "name": "python3",
      "display_name": "Python 3"
    },
    "language_info": {
      "name": "python"
    }
  },
  "cells": [
    {
      "cell_type": "markdown",
      "metadata": {
        "id": "view-in-github",
        "colab_type": "text"
      },
      "source": [
        "<a href=\"https://colab.research.google.com/github/BhaveshWadibhasme/Advance-NLP/blob/main/refined_rag_implementation.ipynb\" target=\"_parent\"><img src=\"https://colab.research.google.com/assets/colab-badge.svg\" alt=\"Open In Colab\"/></a>"
      ]
    },
    {
      "cell_type": "code",
      "execution_count": 56,
      "metadata": {
        "id": "u5F9R4zv6fX8"
      },
      "outputs": [],
      "source": [
        "# Extract data file from web\n",
        "#!wget https://www.rgpv.ac.in/campus/BTech_I/transformer.pdf"
      ]
    },
    {
      "cell_type": "code",
      "source": [
        "#!pip install langchain_community\n",
        "#!pip install langchain_openai\n",
        "#!pip install pypdf\n",
        "#!pip install chromadb\n",
        "#!pip install tiktoken"
      ],
      "metadata": {
        "id": "DP8Zx5av64Ny"
      },
      "execution_count": 57,
      "outputs": []
    },
    {
      "cell_type": "code",
      "source": [
        "import pandas as pd\n",
        "import numpy as np\n",
        "import os\n",
        "from langchain_community.document_loaders import PyPDFLoader\n",
        "from langchain_community.vectorstores import Chroma\n",
        "from langchain_community.embeddings import OpenAIEmbeddings\n",
        "from langchain.text_splitter import RecursiveCharacterTextSplitter\n",
        "from langchain_core.prompts import ChatPromptTemplate\n",
        "from langchain_core.runnables import RunnablePassthrough"
      ],
      "metadata": {
        "id": "8jg7AWkL6qXg"
      },
      "execution_count": 58,
      "outputs": []
    },
    {
      "cell_type": "code",
      "source": [
        "from google.colab import userdata\n",
        "os.environ['OPENAI_API_KEY'] = userdata.get('OPENAI_API_KEY')"
      ],
      "metadata": {
        "id": "m5tCW9e__c-Z"
      },
      "execution_count": 59,
      "outputs": []
    },
    {
      "cell_type": "code",
      "source": [
        "# Read dataset using data loader\n",
        "data_path = \"/content/transformer.pdf\"\n",
        "loader = PyPDFLoader(data_path)\n",
        "documents = loader.load()"
      ],
      "metadata": {
        "id": "cP54TNt-8VN9"
      },
      "execution_count": 60,
      "outputs": []
    },
    {
      "cell_type": "code",
      "source": [
        "# Split document into chunks\n",
        "splitter = RecursiveCharacterTextSplitter(chunk_size = 200, chunk_overlap = 20)\n",
        "doc_chunk = splitter.split_documents(documents)"
      ],
      "metadata": {
        "id": "G4Jvy06z8rHo"
      },
      "execution_count": 61,
      "outputs": []
    },
    {
      "cell_type": "code",
      "source": [
        "# Convert documents to embeddings\n",
        "db = Chroma.from_documents(doc_chunk,OpenAIEmbeddings())\n",
        "# sample_query = \"What are type of Transformers?\"\n",
        "# retrived_output = db.similarity_search(sample_query)\n",
        "retriver = db.as_retriever(search_kwargs={\"k\": 5})"
      ],
      "metadata": {
        "id": "vEzMgzXE8twX"
      },
      "execution_count": 67,
      "outputs": []
    },
    {
      "cell_type": "code",
      "source": [
        "prompt = ChatPromptTemplate.from_messages(\n",
        "    [\n",
        "        (\"system\",\"You are helpful assistance which refers to provided context to answer to user question.{context}\"),\n",
        "        (\"user\",\"{user_input}\"),\n",
        "    ]\n",
        ")"
      ],
      "metadata": {
        "id": "AwMjeaxt9eac"
      },
      "execution_count": 68,
      "outputs": []
    },
    {
      "cell_type": "code",
      "source": [
        "from langchain_openai import ChatOpenAI\n",
        "llm = ChatOpenAI(\n",
        "  model = \"gpt-4o-mini\",\n",
        "  temperature = 0,\n",
        "  max_tokens = None,\n",
        "  max_retries = None,\n",
        "  timeout = None,\n",
        "  )"
      ],
      "metadata": {
        "id": "KShTdSZe_t21"
      },
      "execution_count": 69,
      "outputs": []
    },
    {
      "cell_type": "code",
      "source": [
        "llm_chain = (\n",
        "    {\"context\":retriver,\"user_input\":RunnablePassthrough()}\n",
        "    |prompt\n",
        "    |llm\n",
        ")"
      ],
      "metadata": {
        "id": "uGfpj0u2DDYu"
      },
      "execution_count": 70,
      "outputs": []
    },
    {
      "cell_type": "code",
      "source": [
        "llm_chain.invoke(\"What are the types of transfoermers?\").content"
      ],
      "metadata": {
        "colab": {
          "base_uri": "https://localhost:8080/",
          "height": 127
        },
        "id": "V1MpBdsIC1E2",
        "outputId": "6a9861b3-4ad4-4fa8-f853-fadaddb86ee5"
      },
      "execution_count": 71,
      "outputs": [
        {
          "output_type": "execute_result",
          "data": {
            "text/plain": [
              "'Transformers can be classified based on different criteria, such as types of construction and types of cooling. Some common types of transformers include:\\n\\n1. **Power Transformers**: Used in transmission networks to step up or step down voltage levels.\\n2. **Distribution Transformers**: Used to distribute electricity to consumers at lower voltage levels.\\n3. **Instrument Transformers**: Used for measurement and protection purposes, including current transformers (CT) and voltage transformers (VT).\\n4. **Isolation Transformers**: Used to isolate different sections of a power system for safety and noise reduction.\\n5. **Auto Transformers**: A type of transformer with a single winding that acts as both the primary and secondary winding.\\n6. **Three-Phase Transformers**: Used in three-phase power systems, which can be constructed as three single-phase transformers or as a single three-phase unit.\\n\\nThese classifications can further be divided based on their construction (e.g., core type, shell type) and cooling methods (e.g., oil-cooled, air-cooled).'"
            ],
            "application/vnd.google.colaboratory.intrinsic+json": {
              "type": "string"
            }
          },
          "metadata": {},
          "execution_count": 71
        }
      ]
    },
    {
      "cell_type": "code",
      "source": [],
      "metadata": {
        "id": "Kev17RijC1m-"
      },
      "execution_count": 66,
      "outputs": []
    }
  ]
}